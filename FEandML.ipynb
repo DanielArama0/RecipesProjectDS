{
 "cells": [
  {
   "cell_type": "markdown",
   "id": "5a322310",
   "metadata": {},
   "source": [
    "# <u>Feature Engineering and Machine Learning</u>"
   ]
  },
  {
   "cell_type": "markdown",
   "id": "963adbc0",
   "metadata": {},
   "source": [
    "#### Imports"
   ]
  },
  {
   "cell_type": "code",
   "execution_count": 1,
   "id": "036dc343",
   "metadata": {},
   "outputs": [],
   "source": [
    "import pandas as pd\n",
    "import numpy as np\n",
    "import ast\n",
    "\n",
    "from sklearn.preprocessing import MultiLabelBinarizer\n",
    "from sklearn.model_selection import train_test_split\n",
    "from sklearn.model_selection import GridSearchCV\n",
    "\n",
    "from sklearn.neighbors import KNeighborsClassifier\n",
    "from sklearn.tree import DecisionTreeClassifier\n",
    "from sklearn.naive_bayes import GaussianNB\n",
    "\n",
    "# Solve KNN error\n",
    "from warnings import simplefilter\n",
    "simplefilter(action='ignore', category=FutureWarning)\n",
    "\n",
    "from sklearn.neural_network import MLPClassifier\n",
    "\n",
    "from sklearn.metrics import accuracy_score, confusion_matrix, ConfusionMatrixDisplay\n",
    "import matplotlib.pyplot as plt\n",
    "\n",
    "import networkx as nx\n",
    "from pyvis.network import Network"
   ]
  },
  {
   "cell_type": "code",
   "execution_count": 2,
   "id": "97463c18",
   "metadata": {},
   "outputs": [
    {
     "name": "stdout",
     "output_type": "stream",
     "text": [
      "(10518, 13)\n"
     ]
    },
    {
     "data": {
      "text/html": [
       "<div>\n",
       "<style scoped>\n",
       "    .dataframe tbody tr th:only-of-type {\n",
       "        vertical-align: middle;\n",
       "    }\n",
       "\n",
       "    .dataframe tbody tr th {\n",
       "        vertical-align: top;\n",
       "    }\n",
       "\n",
       "    .dataframe thead th {\n",
       "        text-align: right;\n",
       "    }\n",
       "</style>\n",
       "<table border=\"1\" class=\"dataframe\">\n",
       "  <thead>\n",
       "    <tr style=\"text-align: right;\">\n",
       "      <th></th>\n",
       "      <th>Rating</th>\n",
       "      <th>Number of Raters</th>\n",
       "      <th>Time</th>\n",
       "      <th>Categories</th>\n",
       "      <th>Servings</th>\n",
       "      <th>Ingredients</th>\n",
       "      <th>Instructions</th>\n",
       "      <th>Calories</th>\n",
       "      <th>Fat</th>\n",
       "      <th>Carbs</th>\n",
       "      <th>Proteins</th>\n",
       "      <th>Year</th>\n",
       "      <th>Month</th>\n",
       "    </tr>\n",
       "  </thead>\n",
       "  <tbody>\n",
       "    <tr>\n",
       "      <th>0</th>\n",
       "      <td>5.0</td>\n",
       "      <td>0.000000</td>\n",
       "      <td>2.302585</td>\n",
       "      <td>Breakfast</td>\n",
       "      <td>0.000000</td>\n",
       "      <td>[pepper, cheese, salt, egg, waffle, syrup]</td>\n",
       "      <td>4.955827</td>\n",
       "      <td>6.095825</td>\n",
       "      <td>3.178054</td>\n",
       "      <td>3.663562</td>\n",
       "      <td>2.890372</td>\n",
       "      <td>2023</td>\n",
       "      <td>4</td>\n",
       "    </tr>\n",
       "    <tr>\n",
       "      <th>1</th>\n",
       "      <td>5.0</td>\n",
       "      <td>1.098612</td>\n",
       "      <td>3.332205</td>\n",
       "      <td>Appetizer</td>\n",
       "      <td>1.386294</td>\n",
       "      <td>[parsley, worcestershire, pepper, salt, season...</td>\n",
       "      <td>4.634729</td>\n",
       "      <td>5.231109</td>\n",
       "      <td>1.609438</td>\n",
       "      <td>1.386294</td>\n",
       "      <td>3.367296</td>\n",
       "      <td>2022</td>\n",
       "      <td>9</td>\n",
       "    </tr>\n",
       "    <tr>\n",
       "      <th>2</th>\n",
       "      <td>4.6</td>\n",
       "      <td>1.609438</td>\n",
       "      <td>2.708050</td>\n",
       "      <td>Breakfast</td>\n",
       "      <td>2.079442</td>\n",
       "      <td>[cheese, dough, cinnamon, cherry, roll, cream,...</td>\n",
       "      <td>5.003946</td>\n",
       "      <td>5.424950</td>\n",
       "      <td>2.772589</td>\n",
       "      <td>2.772589</td>\n",
       "      <td>1.609438</td>\n",
       "      <td>2022</td>\n",
       "      <td>8</td>\n",
       "    </tr>\n",
       "    <tr>\n",
       "      <th>3</th>\n",
       "      <td>5.0</td>\n",
       "      <td>0.693147</td>\n",
       "      <td>3.912023</td>\n",
       "      <td>Appetizer</td>\n",
       "      <td>3.871201</td>\n",
       "      <td>[salmon, wonton, cheese, onion, water, caper, ...</td>\n",
       "      <td>5.327876</td>\n",
       "      <td>3.637586</td>\n",
       "      <td>0.000000</td>\n",
       "      <td>1.609438</td>\n",
       "      <td>0.000000</td>\n",
       "      <td>2022</td>\n",
       "      <td>11</td>\n",
       "    </tr>\n",
       "    <tr>\n",
       "      <th>4</th>\n",
       "      <td>4.0</td>\n",
       "      <td>0.000000</td>\n",
       "      <td>3.555348</td>\n",
       "      <td>Appetizer</td>\n",
       "      <td>2.772589</td>\n",
       "      <td>[cheese, raspberry, phyllo, dough, honey, salt...</td>\n",
       "      <td>5.117994</td>\n",
       "      <td>5.529429</td>\n",
       "      <td>2.772589</td>\n",
       "      <td>3.135494</td>\n",
       "      <td>1.386294</td>\n",
       "      <td>2022</td>\n",
       "      <td>10</td>\n",
       "    </tr>\n",
       "  </tbody>\n",
       "</table>\n",
       "</div>"
      ],
      "text/plain": [
       "   Rating  Number of Raters      Time Categories  Servings  \\\n",
       "0     5.0          0.000000  2.302585  Breakfast  0.000000   \n",
       "1     5.0          1.098612  3.332205  Appetizer  1.386294   \n",
       "2     4.6          1.609438  2.708050  Breakfast  2.079442   \n",
       "3     5.0          0.693147  3.912023  Appetizer  3.871201   \n",
       "4     4.0          0.000000  3.555348  Appetizer  2.772589   \n",
       "\n",
       "                                         Ingredients  Instructions  Calories  \\\n",
       "0         [pepper, cheese, salt, egg, waffle, syrup]      4.955827  6.095825   \n",
       "1  [parsley, worcestershire, pepper, salt, season...      4.634729  5.231109   \n",
       "2  [cheese, dough, cinnamon, cherry, roll, cream,...      5.003946  5.424950   \n",
       "3  [salmon, wonton, cheese, onion, water, caper, ...      5.327876  3.637586   \n",
       "4  [cheese, raspberry, phyllo, dough, honey, salt...      5.117994  5.529429   \n",
       "\n",
       "        Fat     Carbs  Proteins  Year  Month  \n",
       "0  3.178054  3.663562  2.890372  2023      4  \n",
       "1  1.609438  1.386294  3.367296  2022      9  \n",
       "2  2.772589  2.772589  1.609438  2022      8  \n",
       "3  0.000000  1.609438  0.000000  2022     11  \n",
       "4  2.772589  3.135494  1.386294  2022     10  "
      ]
     },
     "execution_count": 2,
     "metadata": {},
     "output_type": "execute_result"
    }
   ],
   "source": [
    "df = pd.read_csv(\"RecipeDataEDAed.csv\")\n",
    "# Dropping additional index column\n",
    "df = df.drop(df.columns[0], axis = 1)\n",
    "df[\"Ingredients\"] = df[\"Ingredients\"].apply(ast.literal_eval)\n",
    "df = df.drop(\"Recipe\", axis =1)\n",
    "print(df.shape)\n",
    "df.head()"
   ]
  },
  {
   "cell_type": "markdown",
   "id": "6acb5566",
   "metadata": {},
   "source": [
    "Removing rows with infinte numbers from the DataFrame "
   ]
  },
  {
   "cell_type": "code",
   "execution_count": 3,
   "id": "c1794ed8",
   "metadata": {},
   "outputs": [
    {
     "name": "stdout",
     "output_type": "stream",
     "text": [
      "Dinner       3774\n",
      "Dessert      2352\n",
      "Appetizer    1262\n",
      "Breakfast     826\n",
      "Side Dish     790\n",
      "Lunch         592\n",
      "Drink         121\n",
      "Name: Categories, dtype: int64\n"
     ]
    },
    {
     "data": {
      "text/html": [
       "<div>\n",
       "<style scoped>\n",
       "    .dataframe tbody tr th:only-of-type {\n",
       "        vertical-align: middle;\n",
       "    }\n",
       "\n",
       "    .dataframe tbody tr th {\n",
       "        vertical-align: top;\n",
       "    }\n",
       "\n",
       "    .dataframe thead th {\n",
       "        text-align: right;\n",
       "    }\n",
       "</style>\n",
       "<table border=\"1\" class=\"dataframe\">\n",
       "  <thead>\n",
       "    <tr style=\"text-align: right;\">\n",
       "      <th></th>\n",
       "      <th>Rating</th>\n",
       "      <th>Number of Raters</th>\n",
       "      <th>Time</th>\n",
       "      <th>Servings</th>\n",
       "      <th>Instructions</th>\n",
       "      <th>Calories</th>\n",
       "      <th>Fat</th>\n",
       "      <th>Carbs</th>\n",
       "      <th>Proteins</th>\n",
       "      <th>Year</th>\n",
       "      <th>Month</th>\n",
       "      <th>Categories</th>\n",
       "      <th>Ingredients</th>\n",
       "    </tr>\n",
       "  </thead>\n",
       "  <tbody>\n",
       "    <tr>\n",
       "      <th>0</th>\n",
       "      <td>5.0</td>\n",
       "      <td>0.000000</td>\n",
       "      <td>2.302585</td>\n",
       "      <td>0.000000</td>\n",
       "      <td>4.955827</td>\n",
       "      <td>6.095825</td>\n",
       "      <td>3.178054</td>\n",
       "      <td>3.663562</td>\n",
       "      <td>2.890372</td>\n",
       "      <td>2023</td>\n",
       "      <td>4</td>\n",
       "      <td>Breakfast</td>\n",
       "      <td>[pepper, cheese, salt, egg, waffle, syrup]</td>\n",
       "    </tr>\n",
       "    <tr>\n",
       "      <th>1</th>\n",
       "      <td>5.0</td>\n",
       "      <td>1.098612</td>\n",
       "      <td>3.332205</td>\n",
       "      <td>1.386294</td>\n",
       "      <td>4.634729</td>\n",
       "      <td>5.231109</td>\n",
       "      <td>1.609438</td>\n",
       "      <td>1.386294</td>\n",
       "      <td>3.367296</td>\n",
       "      <td>2022</td>\n",
       "      <td>9</td>\n",
       "      <td>Appetizer</td>\n",
       "      <td>[parsley, worcestershire, pepper, salt, season...</td>\n",
       "    </tr>\n",
       "    <tr>\n",
       "      <th>2</th>\n",
       "      <td>4.6</td>\n",
       "      <td>1.609438</td>\n",
       "      <td>2.708050</td>\n",
       "      <td>2.079442</td>\n",
       "      <td>5.003946</td>\n",
       "      <td>5.424950</td>\n",
       "      <td>2.772589</td>\n",
       "      <td>2.772589</td>\n",
       "      <td>1.609438</td>\n",
       "      <td>2022</td>\n",
       "      <td>8</td>\n",
       "      <td>Breakfast</td>\n",
       "      <td>[cheese, dough, cinnamon, cherry, roll, cream,...</td>\n",
       "    </tr>\n",
       "    <tr>\n",
       "      <th>3</th>\n",
       "      <td>5.0</td>\n",
       "      <td>0.693147</td>\n",
       "      <td>3.912023</td>\n",
       "      <td>3.871201</td>\n",
       "      <td>5.327876</td>\n",
       "      <td>3.637586</td>\n",
       "      <td>0.000000</td>\n",
       "      <td>1.609438</td>\n",
       "      <td>0.000000</td>\n",
       "      <td>2022</td>\n",
       "      <td>11</td>\n",
       "      <td>Appetizer</td>\n",
       "      <td>[salmon, wonton, cheese, onion, water, caper, ...</td>\n",
       "    </tr>\n",
       "    <tr>\n",
       "      <th>4</th>\n",
       "      <td>4.0</td>\n",
       "      <td>0.000000</td>\n",
       "      <td>3.555348</td>\n",
       "      <td>2.772589</td>\n",
       "      <td>5.117994</td>\n",
       "      <td>5.529429</td>\n",
       "      <td>2.772589</td>\n",
       "      <td>3.135494</td>\n",
       "      <td>1.386294</td>\n",
       "      <td>2022</td>\n",
       "      <td>10</td>\n",
       "      <td>Appetizer</td>\n",
       "      <td>[cheese, raspberry, phyllo, dough, honey, salt...</td>\n",
       "    </tr>\n",
       "  </tbody>\n",
       "</table>\n",
       "</div>"
      ],
      "text/plain": [
       "   Rating  Number of Raters      Time  Servings  Instructions  Calories  \\\n",
       "0     5.0          0.000000  2.302585  0.000000      4.955827  6.095825   \n",
       "1     5.0          1.098612  3.332205  1.386294      4.634729  5.231109   \n",
       "2     4.6          1.609438  2.708050  2.079442      5.003946  5.424950   \n",
       "3     5.0          0.693147  3.912023  3.871201      5.327876  3.637586   \n",
       "4     4.0          0.000000  3.555348  2.772589      5.117994  5.529429   \n",
       "\n",
       "        Fat     Carbs  Proteins  Year  Month Categories  \\\n",
       "0  3.178054  3.663562  2.890372  2023      4  Breakfast   \n",
       "1  1.609438  1.386294  3.367296  2022      9  Appetizer   \n",
       "2  2.772589  2.772589  1.609438  2022      8  Breakfast   \n",
       "3  0.000000  1.609438  0.000000  2022     11  Appetizer   \n",
       "4  2.772589  3.135494  1.386294  2022     10  Appetizer   \n",
       "\n",
       "                                         Ingredients  \n",
       "0         [pepper, cheese, salt, egg, waffle, syrup]  \n",
       "1  [parsley, worcestershire, pepper, salt, season...  \n",
       "2  [cheese, dough, cinnamon, cherry, roll, cream,...  \n",
       "3  [salmon, wonton, cheese, onion, water, caper, ...  \n",
       "4  [cheese, raspberry, phyllo, dough, honey, salt...  "
      ]
     },
     "execution_count": 3,
     "metadata": {},
     "output_type": "execute_result"
    }
   ],
   "source": [
    "category_df = pd.DataFrame()\n",
    "df[\"Categories\"].value_counts()\n",
    "\n",
    "#Removing text columns for the isfinite function\n",
    "category_df[\"Categories\"]= df[\"Categories\"]\n",
    "category_df[\"Ingredients\"]= df[\"Ingredients\"]\n",
    "\n",
    "#Removing non-finite columns\n",
    "df = df.drop([\"Categories\",\"Ingredients\"], axis = 1)\n",
    "df = df[np.isfinite(df).all(1)]\n",
    "\n",
    "#Adding back the text columns\n",
    "df = df.merge(category_df, left_index = True, right_index = True)\n",
    "\n",
    "print(df[\"Categories\"].value_counts())\n",
    "df.head()\n"
   ]
  },
  {
   "cell_type": "markdown",
   "id": "eb808753",
   "metadata": {},
   "source": [
    "Function receives the DataFrame and without_ing flag, and returns X, y (dataframe without categories, and categories column).</br>\n",
    "It samples the over-represented categories, to create more homogeneous DataFrame.</br>\n",
    "If the without_Ing flag is turned on, it drops the ingredient column.</br>\n",
    "If the without_Ing flag is turned off, it keeps it in X.</br>\n"
   ]
  },
  {
   "cell_type": "code",
   "execution_count": 4,
   "id": "b5c926b6",
   "metadata": {},
   "outputs": [],
   "source": [
    "def sample_categories(df, without_ing):\n",
    "    # Sampling the over represented categories\n",
    "    dinner_df = df[df['Categories'] == 'Dinner'].sample(n=800, random_state=1)\n",
    "    dessert_df = df[df['Categories'] == 'Dessert'].sample(n=800, random_state=1)\n",
    "    appetizer_df = df[df['Categories'] == 'Appetizer'].sample(n=800, random_state=1)\n",
    "    \n",
    "    # Removing the the over represented categories\n",
    "    df = df[df['Categories'] != 'Dinner']\n",
    "    df = df[df['Categories'] != 'Dessert']\n",
    "    df = df[df['Categories'] != 'Appetizer']\n",
    "\n",
    "    # Adding the samples back to the DataFrame\n",
    "    df = pd.concat([df.reset_index(drop = True), dinner_df.reset_index(drop = True)], axis=0)\n",
    "    df = pd.concat([df.reset_index(drop = True), dessert_df.reset_index(drop = True)], axis=0)\n",
    "    df = pd.concat([df.reset_index(drop = True), appetizer_df.reset_index(drop = True)], axis=0)\n",
    "    df = df.reset_index(drop = True)\n",
    "\n",
    "    X = df.drop(\"Categories\", axis = 1)\n",
    "    y = df[\"Categories\"]\n",
    "    \n",
    "    #check if flag is turned on\n",
    "    if without_ing:\n",
    "        X = X.drop(\"Ingredients\", axis = 1)\n",
    "        \n",
    "    return X, y\n",
    "\n",
    "\n",
    "\n"
   ]
  },
  {
   "cell_type": "code",
   "execution_count": 5,
   "id": "fbbedbbd",
   "metadata": {},
   "outputs": [],
   "source": [
    "X, y = sample_categories(df, 1)"
   ]
  },
  {
   "cell_type": "markdown",
   "id": "006666d0",
   "metadata": {},
   "source": [
    "## <u>Initial Goal: predicting the rating of recipes</u>"
   ]
  },
  {
   "cell_type": "markdown",
   "id": "cd841b8c",
   "metadata": {},
   "source": [
    "The initial goal was to predict recipe ratings based on ingredient combinations.\n",
    "\n",
    "Our data was extracted from \"allrecipes.com,\" and during the exploratory data analysis (EDA) stage, we observed that most recipes were rated between 4 and 5 stars. There were very few low-rated recipes, and even fewer low-rated recipes with more than 20 raters. Having a decent number of raters is crucial for predicting ratings because recipes with a low number of raters can be easily manipulated to receive higher or lower ratings.\n",
    "\n",
    "Due to the rarity of low-rated recipes, our DataFrame was unbalanced. To address this issue, we decided to bin our data instead of using LinearRegression. We attempted various binning approaches, including 6, 5, 4, 3, and even 2 bins with an equal number of recipes in each bin. As we reduced the number of bins, the accuracy of our predictions improved. However, even with 2 bins, our accuracy score was only 65%, which is only slightly better than flipping a coin.\n",
    "\n",
    "We tried several techniques to improve our predictions, such as switching between MinMaxScaler and Log Transformation, modifying the handling of outliers (from complete removal to replacing high outliers with the upper whisker value, q3+1.5σ), adjusting hyperparameters in the MLPClassifier (changing the number of hidden layers, their distribution, activation function, and learning rate), and exploring alternative representations of ingredients (using their relative weight in the recipe instead of one-hot encoding, although this approach had limitations due to ingredient splitting during preprocessing).\n",
    "\n",
    "Unfortunately, none of the above methods improved our predictions significantly, and we only achieved a 68% accuracy score with 2 bins.\n",
    "\n",
    "At that point, we decided to change our approach and reconsider the problem. Instead of focusing on how we could manipulate and work with the data, we thought about what we might have overlooked. As mentioned earlier, the vast majority of our recipes were rated between 4 and 5 stars, making it challenging to distinguish between \"excellent\" and \"perfect\" recipes with the available data. We came up with a few explanations for this: </br>\n",
    "1) When users browse an online recipe, the first thing that catches their eye is the recipe's photo or video.</br>\n",
    "2) The quantity of ingredients, not just their presence, plays a crucial role in achieving high ratings.</br>\n",
    "\n",
    "Based on these observations, we made the decision to change the goal of our project from predicting ratings to predicting recipe categories. This change aligns well with our data since most recipes are considered \"excellent\" or \"perfect\". We can utilize the one-hot encoding technique, which focuses on the presence of ingredients rather than their quantities. This approach fits our initial goal of predicting based on ingredient combinations."
   ]
  },
  {
   "cell_type": "markdown",
   "id": "46ee5963",
   "metadata": {},
   "source": [
    "## <u> Predicting Categories</u>"
   ]
  },
  {
   "cell_type": "markdown",
   "id": "17b9a389",
   "metadata": {},
   "source": [
    "We are attempting to classify recipes into the following categories: Appetizer, Breakfast, Dessert, Dinner, Drink, Lunch, and Side Dish.\n",
    "\n",
    "During the Data cleaning stage, a significant portion of our pre-processing involved extracting the names of ingredients from the ingredients lists. However, we questioned whether this step was even necessary.\n",
    "\n",
    "To address this question, we decided to conduct a prediction experiment using only the data from other columns: Rating, Number of Raters, Time, Servings, Instructions, Calories, Fat, Carbs, Proteins, Year, and Month.\n",
    "\n",
    "Afterward, we will incorporate one-hot encoded ingredient columns into the DataFrame, along with the remaining columns, and  predict again. We will then compare the results between the two approaches."
   ]
  },
  {
   "cell_type": "markdown",
   "id": "81f5b6a4",
   "metadata": {},
   "source": [
    "### <u>Without Ingredients</u>"
   ]
  },
  {
   "cell_type": "markdown",
   "id": "11ee1233",
   "metadata": {},
   "source": [
    "Predicting categories without ingredients."
   ]
  },
  {
   "cell_type": "markdown",
   "id": "55230b78",
   "metadata": {},
   "source": [
    "#### <u>KNN</u>"
   ]
  },
  {
   "cell_type": "code",
   "execution_count": 6,
   "id": "f1f1e8c3",
   "metadata": {},
   "outputs": [
    {
     "name": "stdout",
     "output_type": "stream",
     "text": [
      "Best parameters: {'n_neighbors': 15}\n",
      "Best Score: 0.4366762819364317\n"
     ]
    }
   ],
   "source": [
    "clf = KNeighborsClassifier()\n",
    "params = {\"n_neighbors\" :[3,5,7,9,15]}\n",
    "clfcv = GridSearchCV(clf, params, cv=10)\n",
    "clfcv.fit(X, y)\n",
    "print(\"Best parameters: {}\".format(clfcv.best_params_))\n",
    "print(\"Best Score: {}\".format(clfcv.best_score_))\n"
   ]
  },
  {
   "cell_type": "markdown",
   "id": "ce09df50",
   "metadata": {},
   "source": [
    "#### <u>Desicion Tree</u>"
   ]
  },
  {
   "cell_type": "code",
   "execution_count": 7,
   "id": "0661e706",
   "metadata": {},
   "outputs": [
    {
     "name": "stdout",
     "output_type": "stream",
     "text": [
      "Best parameters: {'max_depth': 5, 'min_samples_split': 5}\n",
      "Best Score: 0.44344384921345903\n"
     ]
    }
   ],
   "source": [
    "clf = DecisionTreeClassifier()\n",
    "params = {\"max_depth\" :[2,3,4,5], \"min_samples_split\":[2,3,5,7,10]}\n",
    "clfcv = GridSearchCV(clf, params, cv=10)\n",
    "clfcv.fit(X, y)\n",
    "print(\"Best parameters: {}\".format(clfcv.best_params_))\n",
    "print(\"Best Score: {}\".format(clfcv.best_score_))\n"
   ]
  },
  {
   "cell_type": "code",
   "execution_count": 8,
   "id": "5803db6c",
   "metadata": {},
   "outputs": [],
   "source": [
    "X_train, X_test, y_train, y_test = train_test_split(X, y, test_size=0.2, random_state=1)"
   ]
  },
  {
   "cell_type": "markdown",
   "id": "201f50db",
   "metadata": {},
   "source": [
    "#### <u>Naive Bayes</u>"
   ]
  },
  {
   "cell_type": "code",
   "execution_count": 9,
   "id": "ae03164f",
   "metadata": {},
   "outputs": [
    {
     "name": "stdout",
     "output_type": "stream",
     "text": [
      "Score: 0.45348837209302323\n"
     ]
    }
   ],
   "source": [
    "clf = GaussianNB()\n",
    "clf.fit(X_train, y_train)\n",
    "print(\"Score: {}\".format(clf.score(X_test,y_test)))"
   ]
  },
  {
   "cell_type": "markdown",
   "id": "16cfeade",
   "metadata": {},
   "source": [
    "#### <u>MLP Classifier</u>"
   ]
  },
  {
   "cell_type": "code",
   "execution_count": 10,
   "id": "d82407ec",
   "metadata": {},
   "outputs": [
    {
     "name": "stdout",
     "output_type": "stream",
     "text": [
      "Score: 0.17970401691331925\n"
     ]
    }
   ],
   "source": [
    "clf = MLPClassifier(hidden_layer_sizes = (5,3,3) , random_state=1, max_iter= 3000, activation='relu')\n",
    "clf.fit(X_train, y_train)\n",
    "print(\"Score: {}\".format(clf.score(X_test,y_test)))"
   ]
  },
  {
   "cell_type": "markdown",
   "id": "ed85b9cb",
   "metadata": {},
   "source": [
    "### <u>With Ingredients</u>"
   ]
  },
  {
   "cell_type": "markdown",
   "id": "38e2b38e",
   "metadata": {},
   "source": [
    "Predicting categories with ingredients."
   ]
  },
  {
   "cell_type": "markdown",
   "id": "c3fb32d7",
   "metadata": {},
   "source": [
    "#### <u>MLPClassifier</u>"
   ]
  },
  {
   "cell_type": "markdown",
   "id": "a695cf56",
   "metadata": {},
   "source": [
    "Due to the structure of our DataFrame, which included the addition of one-hot encoded ingredient columns, it was suggested that we utilize the MLPClassifier algorithm.\n",
    "\n",
    "The MLPClassifier is a neural network-based classification algorithm. One of its important hyperparameters is \"hidden_layer_sizes,\" which determines the architecture of the network in terms of the number of hidden layers and the number of neurons in each layer. In our model, we have chosen to have 100 neurons in columns 2-6 and 69 neurons in column 1. Since our objective is to classify recipe categories based on their ingredients, it is crucial for our network to be \"sparse\" and have a sufficient number of columns to capture different ingredient combinations."
   ]
  },
  {
   "cell_type": "code",
   "execution_count": 11,
   "id": "fd1ae7d4",
   "metadata": {},
   "outputs": [
    {
     "name": "stdout",
     "output_type": "stream",
     "text": [
      "(4729, 569)\n"
     ]
    },
    {
     "data": {
      "image/png": "[encoded data removed]",
      "text/plain": [
       "<Figure size 900x900 with 2 Axes>"
      ]
     },
     "metadata": {},
     "output_type": "display_data"
    },
    {
     "data": {
      "text/plain": [
       "0.7177589852008457"
      ]
     },
     "execution_count": 11,
     "metadata": {},
     "output_type": "execute_result"
    }
   ],
   "source": [
    "X, y = sample_categories(df,0)\n",
    "\n",
    "mlb = MultiLabelBinarizer()\n",
    "encoded_ingredients = mlb.fit_transform(X[\"Ingredients\"])\n",
    "encoded_df_ing = pd.DataFrame(encoded_ingredients, columns=mlb.classes_)\n",
    "X = X.merge(encoded_df_ing, left_index = True, right_index = True)\n",
    "X = X.drop(\"Ingredients\", axis =1)\n",
    "print(X.shape)\n",
    "\n",
    "X_train, X_test, y_train, y_test = train_test_split(X, y, test_size=0.2, random_state=1)\n",
    "clf = MLPClassifier(hidden_layer_sizes = (69, 100, 100, 100, 100, 100) , random_state=1, max_iter= 3000, activation='relu').fit(X_train, y_train)\n",
    "y_pred = clf.predict(X_test)\n",
    "\n",
    "disp = ConfusionMatrixDisplay(confusion_matrix(y_test, y_pred), display_labels=clf.classes_ )\n",
    "fig, ax = plt.subplots(figsize=(9,9))\n",
    "disp.plot(ax=ax)\n",
    "plt.show()\n",
    "clf.score(X_test, y_test)"
   ]
  },
  {
   "cell_type": "markdown",
   "id": "d59ad7ca",
   "metadata": {},
   "source": [
    "#### <u>Most common ingredients per category:</u>"
   ]
  },
  {
   "cell_type": "code",
   "execution_count": 12,
   "id": "a05e832e",
   "metadata": {},
   "outputs": [],
   "source": [
    "\n",
    "# Recreating the df, addinng categories to X\n",
    "ML_recipes = X.merge(y,left_index = True, right_index = True)\n",
    "# Droping the all columns besides Ingredients\n",
    "ML_recipes_Ing = ML_recipes.drop(['Rating', 'Number of Raters', 'Time', 'Servings', 'Instructions','Month',\\\n",
    "                              'Calories', 'Fat', 'Carbs', 'Proteins', 'Year'], axis = 1)\n",
    "ingredient_counts = ML_recipes_Ing.groupby('Categories').sum()\n"
   ]
  },
  {
   "cell_type": "code",
   "execution_count": 13,
   "id": "2b811b0d",
   "metadata": {},
   "outputs": [
    {
     "name": "stdout",
     "output_type": "stream",
     "text": [
      "Appetizer : ['salt', 'pepper', 'cheese', 'oil', 'onion', 'cream', 'egg', 'sauce', 'butter', 'flour']\n",
      "Breakfast : ['egg', 'salt', 'sugar', 'milk', 'flour', 'butter', 'cinnamon', 'cheese', 'vanilla', 'oil']\n",
      "Dessert : ['sugar', 'egg', 'butter', 'flour', 'vanilla', 'salt', 'milk', 'cream', 'cinnamon', 'soda']\n",
      "Dinner : ['pepper', 'salt', 'onion', 'oil', 'garlic', 'sauce', 'cheese', 'chicken', 'water', 'tomato']\n",
      "Drink : ['milk', 'sugar', 'ice', 'vanilla', 'banana', 'yogurt', 'water', 'cream', 'strawberry', 'juice']\n",
      "Lunch : ['onion', 'pepper', 'salt', 'oil', 'mayonnaise', 'vinegar', 'cheese', 'tomato', 'sugar', 'celery']\n",
      "Side Dish : ['salt', 'pepper', 'oil', 'onion', 'butter', 'potato', 'sugar', 'cheese', 'garlic', 'water']\n"
     ]
    }
   ],
   "source": [
    "\n",
    "ingredient_counts = ingredient_counts.transpose() \n",
    "for column in ingredient_counts:\n",
    "    # Sort the column in descending order and get the top 10 values\n",
    "    top_10_values = ingredient_counts[column].nlargest(10)\n",
    "    print(\"{} : {}\".format(column, top_10_values.index.tolist()))\n"
   ]
  },
  {
   "cell_type": "markdown",
   "id": "9f1ef2c2",
   "metadata": {},
   "source": [
    "<u>Visualizing top 10 ingredients for each category and their connections:</u>"
   ]
  },
  {
   "cell_type": "code",
   "execution_count": 14,
   "id": "0a4a239f",
   "metadata": {},
   "outputs": [
    {
     "name": "stdout",
     "output_type": "stream",
     "text": [
      "Warning: When  cdn_resources is 'local' jupyter notebook has issues displaying graphics on chrome/safari. Use cdn_resources='in_line' or cdn_resources='remote' if you have issues viewing graphics in a notebook.\n",
      "graph.html\n"
     ]
    },
    {
     "data": {
      "text/html": [
       "\n",
       "        <iframe\n",
       "            width=\"100%\"\n",
       "            height=\"500px\"\n",
       "            src=\"graph.html\"\n",
       "            frameborder=\"0\"\n",
       "            allowfullscreen\n",
       "            \n",
       "        ></iframe>\n",
       "        "
      ],
      "text/plain": [
       "<IPython.lib.display.IFrame at 0x1f638c27970>"
      ]
     },
     "execution_count": 14,
     "metadata": {},
     "output_type": "execute_result"
    }
   ],
   "source": [
    "top_ingredients = {}\n",
    "columns = ingredient_counts.columns\n",
    "for column in columns:\n",
    "    # Sort the column in descending order and get the top 10 values\n",
    "    top_10_values = ingredient_counts[column].nlargest(10)\n",
    "    top_10_values = top_10_values.index.tolist()\n",
    "    top_ingredients[column] = top_10_values\n",
    "\n",
    "# Create an empty graph\n",
    "G = nx.Graph()\n",
    "\n",
    "category_colors = {\n",
    "    'Appetizer': 'rgb(255, 0, 0)',  # Red\n",
    "    'Breakfast': 'rgb(0, 255, 0)',  # Green\n",
    "    'Dessert': 'rgb(0, 0, 255)',    # Blue\n",
    "    'Dinner': 'rgb(255, 255, 0)',   # Yellow\n",
    "    'Drink': 'rgb(255, 0, 255)',    # Magenta\n",
    "    'Lunch': 'rgb(0, 255, 255)',    # Cyan\n",
    "    'Side Dish': 'rgb(255, 128, 0)' # Orange\n",
    "}\n",
    "\n",
    "# Add nodes to the graph (categories and ingredients)\n",
    "categories = top_ingredients.keys()\n",
    "ingredients = [ingredient for ingredients_list in top_ingredients.values() for ingredient in ingredients_list]\n",
    "G.add_nodes_from(categories)\n",
    "G.add_nodes_from(ingredients)\n",
    "\n",
    "# Add edges between categories and their corresponding ingredients\n",
    "for category, ingredients_list in top_ingredients.items():\n",
    "    G.add_edges_from([(category, ingredient) for ingredient in ingredients_list])\n",
    "\n",
    "# Create a pyvis network\n",
    "nt = Network(height=\"500px\", width=\"100%\", notebook=True)\n",
    "\n",
    "# Define node positions using a circular layout\n",
    "pos = nx.kamada_kawai_layout(G, scale=500)\n",
    "\n",
    "# Add nodes\n",
    "for node in G.nodes():\n",
    "    if node in categories:\n",
    "        color = category_colors[node]\n",
    "        physics = False  # Disable physics for category nodes\n",
    "    else:\n",
    "        color = 'silver'\n",
    "        physics = True  # Enable physics for ingredient nodes\n",
    "    nt.add_node(node, color=color, x=pos[node][0], y=pos[node][1], physics=physics)\n",
    "\n",
    "# Add edges\n",
    "for edge in G.edges():\n",
    "    nt.add_edge(edge[0], edge[1])\n",
    "\n",
    "# Show the network\n",
    "nt.show(\"graph.html\")\n",
    "\n",
    "#\n",
    "#The graph is in the README file\n",
    "#"
   ]
  },
  {
   "cell_type": "markdown",
   "id": "ee80a3a8",
   "metadata": {},
   "source": [
    "### <u>Results Explanation</u>"
   ]
  },
  {
   "cell_type": "markdown",
   "id": "e68cc7fe",
   "metadata": {},
   "source": [
    "#### <u>Predicting with and without ingredients</u> "
   ]
  },
  {
   "cell_type": "markdown",
   "id": "424ac721",
   "metadata": {},
   "source": [
    "The inclusion of ingredients significantly enhanced our prediction performance, resulting in a 26.5% improvement. Comparing the accuracy scores, the model without ingredients achieved the highest accuracy of 45.3% using the Naive Bayes algorithm. In contrast, the model incorporating ingredients, the MLPClassifier, achieved a significantly higher accuracy score of 71.7%.\n",
    "\n",
    "These results indicate that different combinations of ingredients are indicative of distinct meal types and dishes. The presence of specific ingredients appears to play a crucial role in determining the recipe category accurately.\n"
   ]
  },
  {
   "cell_type": "markdown",
   "id": "5c86f5cd",
   "metadata": {},
   "source": [
    "#### <u>Ingredients Confusion matrix results</u>"
   ]
  },
  {
   "cell_type": "markdown",
   "id": "e517e893",
   "metadata": {},
   "source": [
    "The model's task is to classify recipes into the following categories: Appetizer, Breakfast, Dessert, Dinner, Drink, Lunch, and Side Dish.</br> Determining when and what to eat are subjective choices, making recipe classification challenging even for humans.\n",
    "\n",
    "Furthermore, as mentioned previously, the categories are not entirely distinct. We can logically divide them into two main groups: \"Time\" and \"Dish Type.\"\n",
    "\n",
    "The \"Time\" categories represent when we typically consume the food and include Breakfast, Lunch, and Dinner. The \"Dish Type\" categories represents the type of dish and portion size, and include: Appetizer, Dessert, Drink, and Side Dish.\n",
    "\n",
    "There is a potential overlap between the \"Time\" and \"Dish Type\" categories due to the fact that certain dishes are primarily consumed at specific times of the day. As a result, our model may classify \"Time\" categories as \"Dish Type\" categories, and vice versa.\n",
    "\n",
    "Among the categories, Lunch poses the lowest prediction rate and proves to be the most challenging to predict accurately. Lunch falls between Breakfast and Dinner and shares attributes of both, while also allowing for the including types of dishes from the \"Dish Type\" categories. Additionally, Lunch had fewer recipes in our dataset compared to the other categories (excluding Drink), which could contribute to the model's difficulty in classifying it correctly. Out of 117 Lunch recipes, our model classified 68 of them as \"Lunch,\" resulting in a 58.1% accuracy rate.\n",
    "\n",
    "On the other hand, the Breakfast category boasts the highest prediction rate. This can be attributed to the fact that breakfasts often consist of one-dish meals that are typically lighter. This similarity can lead to confusion with Appetizer and Side Dish categories. Additionally, breakfasts are the only meals that commonly incorporate sweet flavors and ingredients, which may cause confusion with the Dessert category. Out of 170 breakfast recipes, our model accurately classified 138 as \"Breakfast,\" achieving an 81.1% accuracy rate.\n",
    "\n",
    "The Drink category has the fewest number of samples. We decided to include it as a category, assuming it had distinct characteristics. Analyzing the most popular ingredients in Drinks, we found that they often consist of various liquid ingredients (such as juice, water, milk, yogurt, ice, and cream, which likely refers to ice cream). Additionally, Drinks commonly feature fruits, which we assume are also frequently consumed at breakfast. Our model successfully classified 17 out of 27 drinks as \"Drink,\" resulting in a 62.9% accuracy rate."
   ]
  },
  {
   "cell_type": "markdown",
   "id": "49acaca0",
   "metadata": {},
   "source": [
    "#### <u>Conclusion</u>"
   ]
  },
  {
   "cell_type": "markdown",
   "id": "d78d1b6b",
   "metadata": {},
   "source": [
    "In conclusion, our project focused on predicting recipe categories based on ingredient combinations. We experimented with different approaches, including analyzing the data without considering ingredients and with ingredient information using one-hot encoding. The inclusion of ingredients significantly improved our prediction accuracy by 26.5%. We found that different combinations of ingredients were indicative of distinct meal types and dishes. While some confusion existed between \"Time\" and \"Dish Type\" categories, our model demonstrated reasonably accurate classification rates, with Breakfast achieving the highest accuracy and Lunch posing the greatest challenge. Overall, this project highlights the importance of ingredient data in accurately classifying recipe categories and provides insights into the complex nature of meal classification."
   ]
  }
 ],
 "metadata": {
  "kernelspec": {
   "display_name": "Python 3 (ipykernel)",
   "language": "python",
   "name": "python3"
  },
  "language_info": {
   "codemirror_mode": {
    "name": "ipython",
    "version": 3
   },
   "file_extension": ".py",
   "mimetype": "text/x-python",
   "name": "python",
   "nbconvert_exporter": "python",
   "pygments_lexer": "ipython3",
   "version": "3.9.13"
  }
 },
 "nbformat": 4,
 "nbformat_minor": 5
}
